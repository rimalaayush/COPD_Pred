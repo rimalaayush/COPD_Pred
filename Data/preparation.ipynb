{
 "cells": [
  {
   "cell_type": "markdown",
   "metadata": {},
   "source": [
    "# Data Collection\n",
    "\n",
    "## Identify the data sources\n",
    "-Health Data Portals, WHO, World Bank, Ministry of Health\n",
    "-Research Papers\n",
    "-"
   ]
  }
 ],
 "metadata": {
  "language_info": {
   "name": "python"
  }
 },
 "nbformat": 4,
 "nbformat_minor": 2
}

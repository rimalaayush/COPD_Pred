{
 "cells": [
  {
   "cell_type": "markdown",
   "metadata": {},
   "source": [
    "# Data Collection\n",
    "\n",
    "## Identify the data sources\n",
    "- Health Data Portals, WHO, World Bank, Ministry of Health\n",
    "- Research Papers\n",
    "- Public Datasets - Kaggle, Data.gov, Open Data Nepal\n",
    "- Hospitals and clinics"
   ]
  },
  {
   "cell_type": "markdown",
   "metadata": {},
   "source": [
    "# References \n",
    "- https://www.who.int/home/search-results?indexCatalogue=genericsearchindex1&searchQuery=Chronic%20Obstructive%20Pulmonary%20Disease&wordsMode=AnyWorld\n",
    "\n",
    "- https://www.worldbank.org/en/search?q=Chronic+Obstructive+Pulmonary+Diseas\n",
    "\n",
    "- https://www.dovepress.com/factors-associated-with-chronic-obstructive-pulmonary-diseases-in-nepa-peer-reviewed-fulltext-article-COPD\n",
    "\n",
    "-https://www.tandfonline.com/doi/pdf/10.2147/COPD.S258110\n",
    "\n",
    "\n"
   ]
  }
 ],
 "metadata": {
  "language_info": {
   "name": "python"
  }
 },
 "nbformat": 4,
 "nbformat_minor": 2
}
